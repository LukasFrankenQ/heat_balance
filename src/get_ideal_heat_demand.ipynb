{
 "cells": [
  {
   "cell_type": "code",
   "execution_count": 58,
   "metadata": {},
   "outputs": [
    {
     "name": "stdout",
     "output_type": "stream",
     "text": [
      "Found entries for 1592 sensor readings.\n"
     ]
    }
   ],
   "source": [
    "import os\n",
    "import sys\n",
    "from pathlib import Path\n",
    "from dotenv import load_dotenv, find_dotenv\n",
    "import pandas as pd\n",
    "import numpy as np\n",
    "import matplotlib.pyplot as plt\n",
    "plt.style.use('bmh')\n",
    "\n",
    "load_dotenv(find_dotenv())\n",
    "sys.path.append(os.environ.get('PROJECT_ROOT'))\n",
    "\n",
    "from src.utils import IdealDataInterface\n",
    "from src.utils import IdealMetadataInterface\n",
    "\n",
    "ideal_path = Path(os.environ.get('PROJECT_IDEAL'))\n",
    "data_path = Path(os.environ.get('PROJECT_DATA'))\n",
    "\n",
    "folder_path = ideal_path / 'household_sensors' / 'sensordata'\n",
    "ideal = IdealDataInterface(folder_path)\n",
    "\n",
    "out_path = data_path / 'raw_gas_data'"
   ]
  },
  {
   "cell_type": "code",
   "execution_count": 55,
   "metadata": {},
   "outputs": [],
   "source": [
    "all_homes = ideal.sensorid_mapping.index.get_level_values('homeid')\n",
    "all_homes = all_homes.unique().tolist()\n",
    "\n",
    "total_demands = pd.Series(np.zeros(len(all_homes)), index=all_homes)\n",
    "\n",
    "for home in all_homes:\n",
    "    gas = ideal.get(homeid=home, subtype='gas')[0]['readings'] \n",
    "    \n",
    "    gas = gas.resample('h').sum()\n",
    "    gas = gas.divide(1000.)\n",
    "    \n",
    "    gas.to_csv(out_path / f'home_{home}.csv') "
   ]
  },
  {
   "cell_type": "code",
   "execution_count": 61,
   "metadata": {},
   "outputs": [],
   "source": [
    "mdi = IdealMetadataInterface(ideal_path / 'metadata')\n",
    "\n",
    "metadata = mdi._metafile('home')['home']\n",
    "metadata.to_csv(out_path / 'metadata.csv')"
   ]
  }
 ],
 "metadata": {
  "kernelspec": {
   "display_name": "Python 3.8.0 64-bit",
   "language": "python",
   "name": "python3"
  },
  "language_info": {
   "codemirror_mode": {
    "name": "ipython",
    "version": 3
   },
   "file_extension": ".py",
   "mimetype": "text/x-python",
   "name": "python",
   "nbconvert_exporter": "python",
   "pygments_lexer": "ipython3",
   "version": "3.8.0"
  },
  "orig_nbformat": 4,
  "vscode": {
   "interpreter": {
    "hash": "ffdb0c89cc842367a93be6eb468afe23766ac3749a570c7a1ecbb8f757cdd35d"
   }
  }
 },
 "nbformat": 4,
 "nbformat_minor": 2
}
